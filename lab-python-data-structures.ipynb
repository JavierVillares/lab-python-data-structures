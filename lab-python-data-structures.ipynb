{
 "cells": [
  {
   "cell_type": "code",
   "execution_count": 1,
   "id": "fd246a77",
   "metadata": {},
   "outputs": [],
   "source": [
    "products = [\"t-shirt\", \"mug\", \"hat\", \"book\", \"keychain\"]  #Creation of the list of products"
   ]
  },
  {
   "cell_type": "code",
   "execution_count": 2,
   "id": "1304bb1f",
   "metadata": {},
   "outputs": [],
   "source": [
    "inventory = {} #Creation of a dictionary to store the inventory of the quantity of each product"
   ]
  },
  {
   "cell_type": "code",
   "execution_count": 3,
   "id": "0bc665c4",
   "metadata": {
    "scrolled": true
   },
   "outputs": [
    {
     "name": "stdout",
     "output_type": "stream",
     "text": [
      "How many t-shirts are there: 12\n",
      "How many mugs are there: 12\n",
      "How many hats are there: 12\n",
      "How many books are there: 12\n",
      "How many keychains are there: 12\n"
     ]
    }
   ],
   "source": [
    "inventory[\"t-shirt\"] = int(input(\"How many t-shirts are there: \", )) #inputting the value of each key in the dictionary for each product\n",
    "inventory[\"mug\"] = int(input(\"How many mugs are there: \", ))\n",
    "inventory[\"hat\"] = int(input(\"How many hats are there: \", ))\n",
    "inventory[\"book\"] = int(input(\"How many books are there: \", ))\n",
    "inventory[\"keychain\"] = int(input(\"How many keychains are there: \", ))"
   ]
  },
  {
   "cell_type": "code",
   "execution_count": 4,
   "id": "baa3ba94",
   "metadata": {},
   "outputs": [],
   "source": [
    "customer_orders = set() #creating an empty set for the customer order since the customer can only choose one of each product (even if he inputs the same product 3 times it will be considered still as one)"
   ]
  },
  {
   "cell_type": "code",
   "execution_count": 5,
   "id": "ea40dea9",
   "metadata": {},
   "outputs": [
    {
     "name": "stdout",
     "output_type": "stream",
     "text": [
      "Choose the name of three of these products: \"t-shirt\", \"mug\", \"hat\", \"book\", \"keychain\". You chose: book\n",
      "Choose the name of three of these products: \"t-shirt\", \"mug\", \"hat\", \"book\", \"keychain\". You chose: mug\n",
      "Choose the name of three of these products: \"t-shirt\", \"mug\", \"hat\", \"book\", \"keychain\". You chose: hat\n"
     ]
    }
   ],
   "source": [
    "#making the customer choose one of the 5 avialable products and adding it to the list of \"customer_orders\" and also displaying which products he chose\n",
    "customer_orders.add(input('Choose the name of three of these products: \"t-shirt\", \"mug\", \"hat\", \"book\", \"keychain\". You chose: ', ))\n",
    "customer_orders.add(input('Choose the name of three of these products: \"t-shirt\", \"mug\", \"hat\", \"book\", \"keychain\". You chose: ', ))\n",
    "customer_orders.add(input('Choose the name of three of these products: \"t-shirt\", \"mug\", \"hat\", \"book\", \"keychain\". You chose: ', ))\n"
   ]
  },
  {
   "cell_type": "code",
   "execution_count": 6,
   "id": "6ebf8032",
   "metadata": {},
   "outputs": [
    {
     "name": "stdout",
     "output_type": "stream",
     "text": [
      "You chose these products: {'book', 'hat', 'mug'}\n"
     ]
    }
   ],
   "source": [
    "print(\"You chose these products:\",customer_orders)"
   ]
  },
  {
   "cell_type": "code",
   "execution_count": 7,
   "id": "d8087090",
   "metadata": {},
   "outputs": [
    {
     "name": "stdout",
     "output_type": "stream",
     "text": [
      "Percentage of customer order 60.0 %\n"
     ]
    }
   ],
   "source": [
    "#Since there are only 5 products and the customer can choose 3 different we can see what the percentage is of what he chose, considering that the list of the customer is a \"set\"\n",
    "percentage_of_customer_orders = len(customer_orders)/len(products)*100\n",
    "print(\"Percentage of customer order\", percentage_of_customer_orders,\"%\")"
   ]
  },
  {
   "cell_type": "code",
   "execution_count": 9,
   "id": "c1718b71",
   "metadata": {},
   "outputs": [],
   "source": [
    "#here we just need to substract 1 product of the total inventory of each product\n",
    "inventory[\"mug\"] -= 1\n",
    "inventory[\"hat\"] -= 1\n",
    "inventory[\"book\"] -= 1\n",
    "#how many products do you want? "
   ]
  },
  {
   "cell_type": "code",
   "execution_count": 10,
   "id": "50c078d2",
   "metadata": {},
   "outputs": [
    {
     "name": "stdout",
     "output_type": "stream",
     "text": [
      "The inventory is {'t-shirt': 12, 'mug': 11, 'hat': 11, 'book': 11, 'keychain': 12}\n"
     ]
    }
   ],
   "source": [
    "print(\"The inventory is\", inventory) #this is just to check the inventory of the products available"
   ]
  },
  {
   "cell_type": "code",
   "execution_count": 12,
   "id": "e89e89a0",
   "metadata": {},
   "outputs": [
    {
     "name": "stdout",
     "output_type": "stream",
     "text": [
      "Inventory of Mugs is: 11\n",
      "Inventory of t-shirt is: 12\n",
      "Inventory of hat is: 11\n",
      "Inventory of book is: 11\n",
      "Inventory of keychain is: 12\n"
     ]
    }
   ],
   "source": [
    "#here is the new result of that substraction\n",
    "print(\"Inventory of Mugs is:\", inventory[\"mug\"])\n",
    "print(\"Inventory of t-shirt is:\", inventory[\"t-shirt\"])\n",
    "print(\"Inventory of hat is:\", inventory[\"hat\"])\n",
    "print(\"Inventory of book is:\", inventory[\"book\"])\n",
    "print(\"Inventory of keychain is:\", inventory[\"keychain\"])\n",
    "\n"
   ]
  },
  {
   "cell_type": "code",
   "execution_count": 13,
   "id": "dd556c65",
   "metadata": {},
   "outputs": [
    {
     "name": "stdout",
     "output_type": "stream",
     "text": [
      "Percentage of customer order 60.0 %\n"
     ]
    }
   ],
   "source": [
    "#Order Statistics:\n",
    "#Total Products Ordered: <total_products_ordered>\n",
    "#Since there are only 5 products and the customer can choose 3 different we can see what the percentage is of what he chose, considering that the list of the customer is a \"set\"\n",
    "percentage_of_customer_orders = len(customer_orders)/len(products)*100\n",
    "print(\"Percentage of customer order\", percentage_of_customer_orders,\"%\") #Percentage of Products Ordered: <percentage_ordered>% "
   ]
  },
  {
   "cell_type": "code",
   "execution_count": 11,
   "id": "a1b03987",
   "metadata": {},
   "outputs": [],
   "source": [
    "print(\"The inventory is\", inventory)#Update the inventory by subtracting 1 from the quantity of each product. Modify the inventory dictionary accordingly."
   ]
  }
 ],
 "metadata": {
  "kernelspec": {
   "display_name": "Python 3 (ipykernel)",
   "language": "python",
   "name": "python3"
  },
  "language_info": {
   "codemirror_mode": {
    "name": "ipython",
    "version": 3
   },
   "file_extension": ".py",
   "mimetype": "text/x-python",
   "name": "python",
   "nbconvert_exporter": "python",
   "pygments_lexer": "ipython3",
   "version": "3.11.5"
  }
 },
 "nbformat": 4,
 "nbformat_minor": 5
}
